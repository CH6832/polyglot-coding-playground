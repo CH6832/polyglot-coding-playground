{
 "cells": [
  {
   "cell_type": "code",
   "execution_count": null,
   "metadata": {},
   "outputs": [],
   "source": [
    "def bucket_sort(x):\n",
    "    \"\"\"Bucket sort\n",
    "    \"\"\"\n",
    "    def insertionSort(b):\n",
    "        for i in range(1, len(b)):\n",
    "            up = b[i]\n",
    "            j = i - 1\n",
    "            while j >= 0 and b[j] > up: \n",
    "                b[j + 1] = b[j]\n",
    "                j -= 1\n",
    "            b[j + 1] = up     \n",
    "        return b \n",
    "\n",
    "    arr = []\n",
    "    slot_num = 10 # 10 means 10 slots, each\n",
    "                  # slot's size is 0.1\n",
    "    for i in range(slot_num):\n",
    "        arr.append([])\n",
    "          \n",
    "    # Put array elements in different buckets \n",
    "    for j in x:\n",
    "        index_b = int(slot_num * j) \n",
    "        arr[index_b].append(j)\n",
    "      \n",
    "    # Sort individual buckets \n",
    "    for i in range(slot_num):\n",
    "        arr[i] = insertionSort(arr[i])\n",
    "          \n",
    "    # concatenate the result\n",
    "    k = 0\n",
    "    for i in range(slot_num):\n",
    "        for j in range(len(arr[i])):\n",
    "            x[k] = arr[i][j]\n",
    "            k += 1\n",
    "    return x"
   ]
  }
 ],
 "metadata": {
  "language_info": {
   "name": "python"
  }
 },
 "nbformat": 4,
 "nbformat_minor": 2
}
