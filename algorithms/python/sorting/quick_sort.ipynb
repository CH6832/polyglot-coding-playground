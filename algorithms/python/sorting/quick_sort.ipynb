{
 "cells": [
  {
   "cell_type": "code",
   "execution_count": null,
   "metadata": {},
   "outputs": [],
   "source": [
    "def quick_sort(unsorted_list: list):\n",
    "    \"\"\"Quick sort\"\"\"\n",
    "    elements = len(unsorted_list)\n",
    "    # base case\n",
    "    if elements < 2:\n",
    "        return unsorted_list\n",
    "    current_position = 0 #Position of the partitioning element\n",
    "    for i in range(1, elements): #Partitioning loop\n",
    "         if unsorted_list[i] <= unsorted_list[0]:\n",
    "              current_position += 1\n",
    "              temp = unsorted_list[i]\n",
    "              unsorted_list[i] = unsorted_list[current_position]\n",
    "              unsorted_list[current_position] = temp\n",
    "\n",
    "    temp = unsorted_list[0]\n",
    "    unsorted_list[0] = unsorted_list[current_position] \n",
    "    unsorted_list[current_position] = temp #Brings pivot to it's appropriate position\n",
    "    left = quick_sort(unsorted_list[0:current_position]) #Sorts the elements to the left of pivot\n",
    "    right = quick_sort(unsorted_list[current_position+1:elements]) #sorts the elements to the right of pivot\n",
    "    unsorted_list = left + [unsorted_list[current_position]] + right #Merging everything together \n",
    "\n",
    "    return unsorted_list"
   ]
  }
 ],
 "metadata": {
  "language_info": {
   "name": "python"
  }
 },
 "nbformat": 4,
 "nbformat_minor": 2
}
