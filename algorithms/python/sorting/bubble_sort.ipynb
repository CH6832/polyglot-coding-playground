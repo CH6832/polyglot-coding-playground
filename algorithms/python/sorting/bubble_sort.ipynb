{
 "cells": [
  {
   "cell_type": "code",
   "execution_count": null,
   "metadata": {},
   "outputs": [],
   "source": [
    "import matplotlib.pyplot as plt\n",
    "from typing import List\n",
    "\n",
    "def bubble_sort(arr: List[int]) -> List[int]:\n",
    "    \"\"\"\n",
    "    Sorts a list of integers using the Bubble Sort algorithm.\n",
    "\n",
    "    Parameters:\n",
    "        arr (List[int]): The input list to be sorted.\n",
    "\n",
    "    Returns:\n",
    "        List[int]: The sorted list.\n",
    "    \"\"\"\n",
    "    n = len(arr)\n",
    "    for i in range(n):\n",
    "        for j in range(0, n-i-1):\n",
    "            if arr[j] > arr[j+1]:\n",
    "                arr[j], arr[j+1] = arr[j+1], arr[j]\n",
    "    return arr\n",
    "\n",
    "def visualize_bubble_sort(arr: List[int]) -> None:\n",
    "    \"\"\"\n",
    "    Visualizes the Bubble Sort algorithm sorting process.\n",
    "\n",
    "    Parameters:\n",
    "        arr (List[int]): The input list to be sorted.\n",
    "    \"\"\"\n",
    "    fig, ax = plt.subplots()\n",
    "    ax.bar(range(len(arr)), arr)\n",
    "    ax.set_title('Bubble Sort Visualization')\n",
    "    ax.set_xlabel('Indices')\n",
    "    ax.set_ylabel('Values')\n",
    "\n",
    "    for i in range(len(arr)):\n",
    "        for j in range(0, len(arr)-i-1):\n",
    "            if arr[j] > arr[j+1]:\n",
    "                arr[j], arr[j+1] = arr[j+1], arr[j]\n",
    "                ax.clear()\n",
    "                ax.bar(range(len(arr)), arr)\n",
    "                plt.pause(0.1)\n",
    "\n",
    "    plt.show()\n",
    "\n",
    "# Example usage:\n",
    "if __name__ == \"__main__\":\n",
    "    unsorted_list = [64, 34, 25, 12, 22, 11, 90]\n",
    "    sorted_list = bubble_sort(unsorted_list.copy())\n",
    "    print(\"Sorted list:\", sorted_list)\n",
    "    visualize_bubble_sort(unsorted_list)"
   ]
  }
 ],
 "metadata": {
  "language_info": {
   "name": "python"
  }
 },
 "nbformat": 4,
 "nbformat_minor": 2
}
