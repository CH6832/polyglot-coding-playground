{
 "cells": [
  {
   "cell_type": "code",
   "execution_count": null,
   "metadata": {},
   "outputs": [],
   "source": [
    "def heap_sort(arr):\n",
    "    \"\"\"Heap sort\n",
    "    \"\"\"\n",
    "    n = len(arr)\n",
    "    def heapify(arr, n, i):\n",
    "        largest = i  # Initialize largest as root\n",
    "        l = 2 * i + 1  # left = 2*i + 1\n",
    "        r = 2 * i + 2  # right = 2*i + 2\n",
    "    \n",
    "        # See if left child of root exists and is\n",
    "        # greater than root\n",
    "        if l < n and arr[i] < arr[l]:\n",
    "            largest = l\n",
    "    \n",
    "        # See if right child of root exists and is\n",
    "        # greater than root\n",
    "        if r < n and arr[largest] < arr[r]:\n",
    "            largest = r\n",
    "    \n",
    "        # Change root, if needed\n",
    "        if largest != i:\n",
    "            (arr[i], arr[largest]) = (arr[largest], arr[i])  # swap\n",
    "    \n",
    "        # Heapify the root.\n",
    "        heapify(arr, n, largest)\n",
    "  \n",
    "    # Build a maxheap.\n",
    "    # Since last parent will be at ((n//2)-1) we can start at that location.\n",
    "  \n",
    "    for i in range(n // 2 - 1, -1, -1):\n",
    "        heapify(arr, n, i)\n",
    "  \n",
    "    # One by one extract elements\n",
    "  \n",
    "    for i in range(n - 1, 0, -1):\n",
    "        (arr[i], arr[0]) = (arr[0], arr[i])  # swap\n",
    "        heapify(arr, i, 0)"
   ]
  }
 ],
 "metadata": {
  "language_info": {
   "name": "python"
  }
 },
 "nbformat": 4,
 "nbformat_minor": 2
}
