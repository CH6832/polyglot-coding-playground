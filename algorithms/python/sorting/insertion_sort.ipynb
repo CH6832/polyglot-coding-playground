{
 "cells": [
  {
   "cell_type": "code",
   "execution_count": null,
   "metadata": {},
   "outputs": [],
   "source": [
    "def insertion_sort(list_to_sort: list) -> None:\n",
    "    \"\"\"Insertion sort algorithm\"\"\"\n",
    "    print(f\"Unsorted : {list_to_sort}\")\n",
    "    # iterate over array to be sorted\n",
    "    for i in range(1, len(list_to_sort)):\n",
    "        x = list_to_sort[i] # get each element\n",
    "        j = i-1 # get one position before x\n",
    "        # shift until reaching index 0 or getting an element smaller than x\n",
    "        while j>=0 and x<list_to_sort[j]:\n",
    "            # swap here\n",
    "            list_to_sort[j+1] = list_to_sort[j]\n",
    "            j = j-1\n",
    "        # keep as it is\n",
    "        list_to_sort[j+1] = x\n",
    "    print(f\"Sorted : {list_to_sort}\")"
   ]
  }
 ],
 "metadata": {
  "language_info": {
   "name": "python"
  }
 },
 "nbformat": 4,
 "nbformat_minor": 2
}
