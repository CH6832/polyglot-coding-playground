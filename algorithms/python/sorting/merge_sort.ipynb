{
 "cells": [
  {
   "cell_type": "code",
   "execution_count": null,
   "metadata": {},
   "outputs": [],
   "source": [
    "def merge_sort(input_list: list):\n",
    "    \"\"\"Merge sort\"\"\"\n",
    "    # check if list exists\n",
    "    if len(input_list) > 1:\n",
    "        # finding mid of list, ...\n",
    "        mid = len(input_list)//2\n",
    "        # dividing the list elems ...\n",
    "        left_part = input_list[:mid]\n",
    "        # into 2 halves\n",
    "        right_part = input_list[mid:]\n",
    " \n",
    "        # sorting both halfs\n",
    "        merge_sort(left_part)\n",
    "        merge_sort(right_part)\n",
    "\n",
    "        i = j = k = 0\n",
    "\n",
    "        # copy data to temp lists\n",
    "        while i < len(left_part) and j < len(right_part):\n",
    "            if left_part[i] <= right_part[j]:\n",
    "                input_list[k] = left_part[i]\n",
    "                i += 1\n",
    "            else:\n",
    "                input_list[k] = right_part[j]\n",
    "                j += 1\n",
    "            k += 1\n",
    "\n",
    "        # check if element was left\n",
    "        while i < len(left_part):\n",
    "            input_list[k] = left_part[i]\n",
    "            i += 1\n",
    "            k += 1\n",
    "\n",
    "        while j < len(right_part):\n",
    "            input_list[k] = right_part[j]\n",
    "            j += 1\n",
    "            k += 1"
   ]
  }
 ],
 "metadata": {
  "language_info": {
   "name": "python"
  }
 },
 "nbformat": 4,
 "nbformat_minor": 2
}
